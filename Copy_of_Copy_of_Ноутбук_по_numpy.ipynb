{
  "nbformat": 4,
  "nbformat_minor": 0,
  "metadata": {
    "colab": {
      "provenance": [],
      "toc_visible": true,
      "include_colab_link": true
    },
    "kernelspec": {
      "name": "python3",
      "display_name": "Python 3"
    },
    "language_info": {
      "name": "python"
    }
  },
  "cells": [
    {
      "cell_type": "markdown",
      "metadata": {
        "id": "view-in-github",
        "colab_type": "text"
      },
      "source": [
        "<a href=\"https://colab.research.google.com/github/magewade/ML_Python_Stepik/blob/main/Copy_of_Copy_of_%D0%9D%D0%BE%D1%83%D1%82%D0%B1%D1%83%D0%BA_%D0%BF%D0%BE_numpy.ipynb\" target=\"_parent\"><img src=\"https://colab.research.google.com/assets/colab-badge.svg\" alt=\"Open In Colab\"/></a>"
      ]
    },
    {
      "cell_type": "markdown",
      "source": [
        "# Numpy (Numeric Python) - библиотека для математических вычислений"
      ],
      "metadata": {
        "id": "0l-QwHR5lka6"
      }
    },
    {
      "cell_type": "markdown",
      "source": [
        "Если коротко - это одна из самых базовых библиотек в современном анализе данных на Python, так как с помощью нее можно быстрее и проще обрабатывать данные.\n",
        "\n",
        "Быстрее за счет того, что основная структура данных - быстрые массивы. Проще -  за счет того, что можно использовать матричные операции, что позволяет избежать циклов, а также многое другое.\n",
        "\n",
        "Поехали!"
      ],
      "metadata": {
        "id": "z4Hb4TsbrMeG"
      }
    },
    {
      "cell_type": "markdown",
      "source": [
        "### 1. Установка и культура использования"
      ],
      "metadata": {
        "id": "Cr0vXoXZl4Uk"
      }
    },
    {
      "cell_type": "markdown",
      "source": [
        "Numpy - это библиотека, а значит пакет, который можно импортировать. Сделать это можно **тремя** способами:"
      ],
      "metadata": {
        "id": "_DLKMFv1mJAb"
      }
    },
    {
      "cell_type": "code",
      "execution_count": 1,
      "metadata": {
        "colab": {
          "base_uri": "https://localhost:8080/"
        },
        "id": "Dj40BVaUlFMU",
        "outputId": "90c901f8-b5c4-46cc-de7b-768cb426186c"
      },
      "outputs": [
        {
          "output_type": "execute_result",
          "data": {
            "text/plain": [
              "array([1, 2, 3])"
            ]
          },
          "metadata": {},
          "execution_count": 1
        }
      ],
      "source": [
        "# 1 можно просто импортировать сам пакет и тогда перед каждым вызовом команды необходимо писать название пакета\n",
        "import numpy\n",
        "\n",
        "# пример\n",
        "numpy.array([1,2,3]) "
      ]
    },
    {
      "cell_type": "code",
      "source": [
        "# 2 можно импортировать пакет в текущее окружение и тогда таскать 5 букв n u m p y не нужно!\n",
        "# но лучше так не делать, потому что библиотека большая и это загрузит память\n",
        "from numpy import *\n",
        "\n",
        "# пример\n",
        "array([1,2,3]) "
      ],
      "metadata": {
        "colab": {
          "base_uri": "https://localhost:8080/"
        },
        "id": "z4a7lp7hmRWs",
        "outputId": "06d71a8a-fd6f-4fea-8902-dcc5fbb5de8c"
      },
      "execution_count": 2,
      "outputs": [
        {
          "output_type": "execute_result",
          "data": {
            "text/plain": [
              "array([1, 2, 3])"
            ]
          },
          "metadata": {},
          "execution_count": 2
        }
      ]
    },
    {
      "cell_type": "code",
      "source": [
        "# 3 но мы рекомендуем использовать следующий способ: импортировать пакет и таскать за собой всего две буквы np\n",
        "# это повысит читаемость вашего кода - будет ясно, что вы используете встроенную функцию пакета numpy, а не какую-то самописную \n",
        "# о поведении которой еще надо догадаться\n",
        "\n",
        "import numpy as np\n",
        "\n",
        "# пример\n",
        "np.array([1,2,3])"
      ],
      "metadata": {
        "colab": {
          "base_uri": "https://localhost:8080/"
        },
        "id": "1lln-zsNmOcw",
        "outputId": "9fa4cf97-a412-4216-adeb-3c718f7bc0f1"
      },
      "execution_count": 3,
      "outputs": [
        {
          "output_type": "execute_result",
          "data": {
            "text/plain": [
              "array([1, 2, 3])"
            ]
          },
          "metadata": {},
          "execution_count": 3
        }
      ]
    },
    {
      "cell_type": "markdown",
      "source": [
        "### 2. Почему Numpy? (подводка к массивам)"
      ],
      "metadata": {
        "id": "BZP04aekmaBs"
      }
    },
    {
      "cell_type": "markdown",
      "source": [
        "В чистом Python нет массивов, но это не мешает программистам внедрять их. Операции со списками в Python долгие и не гибкие для задач анализа данных.\n",
        "\n",
        "Numpy взялся решить эту проблему. Основная структура данных в numpy - как раз массив (numpy.array - где-то вы эту команду уже видели, не так ли?)\n",
        "\n",
        "В чем numpy.array красавчик:\n",
        "* как и вся библиотека numpy он написан на С++, что выделяет операции с ним по скорости\n",
        "* numpy.array позволяет представлять данные в матричном виде, что позволяет реализовать матричные операции (что быстрее циклов)"
      ],
      "metadata": {
        "id": "Bax2Wxe0xwoT"
      }
    },
    {
      "cell_type": "markdown",
      "source": [
        "Давайте убедимся в этом!"
      ],
      "metadata": {
        "id": "TUHLgoiUzPXN"
      }
    },
    {
      "cell_type": "code",
      "source": [
        "%timeit range(10000)     # обычный range в python\n",
        "%timeit np.arange(10000) # range из numpy-массива"
      ],
      "metadata": {
        "colab": {
          "base_uri": "https://localhost:8080/"
        },
        "id": "jYGUwocmzUjX",
        "outputId": "cae9b6de-6f85-435f-f756-f9d6b155a2bb"
      },
      "execution_count": 4,
      "outputs": [
        {
          "output_type": "stream",
          "name": "stdout",
          "text": [
            "173 ns ± 36.8 ns per loop (mean ± std. dev. of 7 runs, 10000000 loops each)\n",
            "7.01 µs ± 2.05 µs per loop (mean ± std. dev. of 7 runs, 100000 loops each)\n"
          ]
        }
      ]
    },
    {
      "cell_type": "markdown",
      "source": [
        "Ну а теперь идем изучать дальше)"
      ],
      "metadata": {
        "id": "IwcBRoDp1typ"
      }
    },
    {
      "cell_type": "markdown",
      "source": [
        "### 3. Начинаем работать с Numpy-массивом! наконец-то)"
      ],
      "metadata": {
        "id": "aZrgYhKg15uO"
      }
    },
    {
      "cell_type": "markdown",
      "source": [
        "3.1. Cоздать numpy-массив можно с заранее определенным типом данных"
      ],
      "metadata": {
        "id": "RZsh8n_P2zO0"
      }
    },
    {
      "cell_type": "code",
      "source": [
        "a = np.array([1, 4, 5, 8], dtype=float)\n",
        "a"
      ],
      "metadata": {
        "colab": {
          "base_uri": "https://localhost:8080/"
        },
        "id": "gfQ_UYj02W7i",
        "outputId": "76defbab-9076-4f45-9b78-291dd65a0056"
      },
      "execution_count": 5,
      "outputs": [
        {
          "output_type": "execute_result",
          "data": {
            "text/plain": [
              "array([1., 4., 5., 8.])"
            ]
          },
          "metadata": {},
          "execution_count": 5
        }
      ]
    },
    {
      "cell_type": "code",
      "source": [
        "a.dtype"
      ],
      "metadata": {
        "colab": {
          "base_uri": "https://localhost:8080/"
        },
        "id": "M8z5Jj884OoW",
        "outputId": "92c1809a-2da9-4258-ed1e-a5379c973ccf"
      },
      "execution_count": 6,
      "outputs": [
        {
          "output_type": "execute_result",
          "data": {
            "text/plain": [
              "dtype('float64')"
            ]
          },
          "metadata": {},
          "execution_count": 6
        }
      ]
    },
    {
      "cell_type": "code",
      "source": [
        "b = np.array([1, 4, 5, 8], dtype=str)\n",
        "b"
      ],
      "metadata": {
        "colab": {
          "base_uri": "https://localhost:8080/"
        },
        "id": "vRFRR5fx2rnr",
        "outputId": "f8bb939f-9b11-4660-bb0e-c80e1b5f73eb"
      },
      "execution_count": 7,
      "outputs": [
        {
          "output_type": "execute_result",
          "data": {
            "text/plain": [
              "array(['1', '4', '5', '8'], dtype='<U1')"
            ]
          },
          "metadata": {},
          "execution_count": 7
        }
      ]
    },
    {
      "cell_type": "code",
      "source": [
        "b.dtype # да, вот так странно помечается string"
      ],
      "metadata": {
        "colab": {
          "base_uri": "https://localhost:8080/"
        },
        "id": "4kcZGUxI4P3l",
        "outputId": "6dbd11aa-aa63-4d41-fdc5-d25132f6ffcb"
      },
      "execution_count": 8,
      "outputs": [
        {
          "output_type": "execute_result",
          "data": {
            "text/plain": [
              "dtype('<U1')"
            ]
          },
          "metadata": {},
          "execution_count": 8
        }
      ]
    },
    {
      "cell_type": "markdown",
      "source": [
        "#### Вопрос 1"
      ],
      "metadata": {
        "id": "1D3PKEV0NojM"
      }
    },
    {
      "cell_type": "markdown",
      "source": [
        "Узнай, почему string из последнего примера выше помечается как U1. Сначала попробуй догадаться сам, а потом погугли)"
      ],
      "metadata": {
        "id": "JIalmPlrNsB1"
      }
    },
    {
      "cell_type": "markdown",
      "source": [
        "#### Задача 1"
      ],
      "metadata": {
        "id": "FEt-m2eMNzjQ"
      }
    },
    {
      "cell_type": "markdown",
      "source": [],
      "metadata": {
        "id": "edXubSAOw5nf"
      }
    },
    {
      "cell_type": "markdown",
      "source": [
        "Вам дан массив, который содержит данные о площади в квадратных футах для домов на определенной улице. \n",
        "На этой улице недавно был построен новый дом. \n",
        "Измените программу, чтобы она принимала значения для нового дома в качестве входных данных, добавляла его в массив и выводила массив, отсортированный в возрастающем порядке."
      ],
      "metadata": {
        "id": "4c9L4j2cN6OB"
      }
    },
    {
      "cell_type": "code",
      "source": [
        "data = np.array([1000, 2500, 1400, 1800, 900, 4200, 2200, 1900, 3500])\n",
        "np.append(data, int(input()))\n",
        "\n",
        "# put your code here"
      ],
      "metadata": {
        "id": "eZ_USPoCODzw",
        "colab": {
          "base_uri": "https://localhost:8080/"
        },
        "outputId": "e8469164-992f-47b8-dfd1-dc48d5103d4f"
      },
      "execution_count": 11,
      "outputs": [
        {
          "name": "stdout",
          "output_type": "stream",
          "text": [
            "1200\n"
          ]
        },
        {
          "output_type": "execute_result",
          "data": {
            "text/plain": [
              "array([1000, 2500, 1400, 1800,  900, 4200, 2200, 1900, 3500, 1200])"
            ]
          },
          "metadata": {},
          "execution_count": 11
        }
      ]
    },
    {
      "cell_type": "markdown",
      "source": [
        "А теперь познакомимся с нашим массивом `а` поближе..."
      ],
      "metadata": {
        "id": "ldmmaXj13Cz1"
      }
    },
    {
      "cell_type": "code",
      "source": [
        "# какой длины ты?\n",
        "\n",
        "len(a) # внимание, работает только с одномерными этот len"
      ],
      "metadata": {
        "colab": {
          "base_uri": "https://localhost:8080/"
        },
        "id": "3qBgQyq83NkO",
        "outputId": "019918f6-52c2-489f-c2de-cc1105926132"
      },
      "execution_count": 12,
      "outputs": [
        {
          "output_type": "execute_result",
          "data": {
            "text/plain": [
              "4"
            ]
          },
          "metadata": {},
          "execution_count": 12
        }
      ]
    },
    {
      "cell_type": "code",
      "source": [
        "# что у тебя на втором месте в массиве?\n",
        "\n",
        "a[1]"
      ],
      "metadata": {
        "colab": {
          "base_uri": "https://localhost:8080/"
        },
        "id": "RTiZQh223Y85",
        "outputId": "d51aaf9d-b35b-42c3-a65b-112b04cf33a3"
      },
      "execution_count": 14,
      "outputs": [
        {
          "output_type": "execute_result",
          "data": {
            "text/plain": [
              "5.0"
            ]
          },
          "metadata": {},
          "execution_count": 14
        }
      ]
    },
    {
      "cell_type": "code",
      "source": [
        "# че-то не нравится мне этот элемент, давай заменим его!\n",
        "\n",
        "a[1] = 5\n",
        "a"
      ],
      "metadata": {
        "colab": {
          "base_uri": "https://localhost:8080/"
        },
        "id": "5lKpO_Lh4AIs",
        "outputId": "46c79d84-4358-4e46-c3fe-21570491240a"
      },
      "execution_count": 13,
      "outputs": [
        {
          "output_type": "execute_result",
          "data": {
            "text/plain": [
              "array([1., 5., 5., 8.])"
            ]
          },
          "metadata": {},
          "execution_count": 13
        }
      ]
    },
    {
      "cell_type": "code",
      "source": [
        "# покажи все элементы до 3го (3 - это позиция, отсчет с 0)\n",
        "\n",
        "a[:2]"
      ],
      "metadata": {
        "colab": {
          "base_uri": "https://localhost:8080/"
        },
        "id": "3iFErLW33lhU",
        "outputId": "fa75f5ef-e38d-4bcb-b1f0-fa20657a5fbd"
      },
      "execution_count": 15,
      "outputs": [
        {
          "output_type": "execute_result",
          "data": {
            "text/plain": [
              "array([1., 5.])"
            ]
          },
          "metadata": {},
          "execution_count": 15
        }
      ]
    },
    {
      "cell_type": "code",
      "source": [
        "# а давай умножим каждый из твоих элементов на число?\n",
        "\n",
        "a * 2 # пс, то же самое работает с другими арифметическими операциями"
      ],
      "metadata": {
        "colab": {
          "base_uri": "https://localhost:8080/"
        },
        "id": "GwislkEs3xHo",
        "outputId": "fe709273-d4cf-45a2-965d-3e3fb97f942b"
      },
      "execution_count": 16,
      "outputs": [
        {
          "output_type": "execute_result",
          "data": {
            "text/plain": [
              "array([ 2., 10., 10., 16.])"
            ]
          },
          "metadata": {},
          "execution_count": 16
        }
      ]
    },
    {
      "cell_type": "markdown",
      "source": [
        "3.2. Если мы хотим работать с матрицами, то можем создать многомерный массив!"
      ],
      "metadata": {
        "id": "FXh34eXJ23sV"
      }
    },
    {
      "cell_type": "code",
      "source": [
        "# возьмем новый массив а, чтобы показать другой способ создания массива:\n",
        "a = np.array(range(10), dtype=float)\n",
        "a"
      ],
      "metadata": {
        "colab": {
          "base_uri": "https://localhost:8080/"
        },
        "id": "W2EimSS423F-",
        "outputId": "de3ea1d0-0946-47f1-836e-b0b658282fa3"
      },
      "execution_count": 17,
      "outputs": [
        {
          "output_type": "execute_result",
          "data": {
            "text/plain": [
              "array([0., 1., 2., 3., 4., 5., 6., 7., 8., 9.])"
            ]
          },
          "metadata": {},
          "execution_count": 17
        }
      ]
    },
    {
      "cell_type": "code",
      "source": [
        "# сделаем из него многомерный - 5 строк, 2 столбца\n",
        "a = a.reshape((5, 2))\n",
        "a"
      ],
      "metadata": {
        "colab": {
          "base_uri": "https://localhost:8080/"
        },
        "id": "vuXRjAvq4yIo",
        "outputId": "8940e956-4b29-437e-d104-f692c04f3399"
      },
      "execution_count": 18,
      "outputs": [
        {
          "output_type": "execute_result",
          "data": {
            "text/plain": [
              "array([[0., 1.],\n",
              "       [2., 3.],\n",
              "       [4., 5.],\n",
              "       [6., 7.],\n",
              "       [8., 9.]])"
            ]
          },
          "metadata": {},
          "execution_count": 18
        }
      ]
    },
    {
      "cell_type": "code",
      "source": [
        "# узнаем его размерность\n",
        "a.shape"
      ],
      "metadata": {
        "colab": {
          "base_uri": "https://localhost:8080/"
        },
        "id": "TK-lLHNO5CgV",
        "outputId": "476bec38-954e-4654-9800-2ebd05f95ba8"
      },
      "execution_count": 19,
      "outputs": [
        {
          "output_type": "execute_result",
          "data": {
            "text/plain": [
              "(5, 2)"
            ]
          },
          "metadata": {},
          "execution_count": 19
        }
      ]
    },
    {
      "cell_type": "code",
      "source": [
        "# получим доступ к элементу (теперь мы должны указывать индекс и по строке и по столбцу)\n",
        "\n",
        "# в левом верхнем углу у нас ....\n",
        "a[0,0]"
      ],
      "metadata": {
        "colab": {
          "base_uri": "https://localhost:8080/"
        },
        "id": "VhhBnxov5Hng",
        "outputId": "d51078b1-615e-4884-91d7-9004d24cabea"
      },
      "execution_count": 20,
      "outputs": [
        {
          "output_type": "execute_result",
          "data": {
            "text/plain": [
              "0.0"
            ]
          },
          "metadata": {},
          "execution_count": 20
        }
      ]
    },
    {
      "cell_type": "code",
      "source": [
        "# два или больше массивов можно сконкатенировать при помощи метода concatenate:\n",
        "\n",
        "a = np.array([1,2], float)\n",
        "b = np.array([3,4,5,6], float)\n",
        "c = np.array([7,8,9], float)\n",
        "np.concatenate((a, b, c))"
      ],
      "metadata": {
        "colab": {
          "base_uri": "https://localhost:8080/"
        },
        "id": "nA3_oCvbo42f",
        "outputId": "16b63098-0499-4907-acd8-47fba16ab528"
      },
      "execution_count": 21,
      "outputs": [
        {
          "output_type": "execute_result",
          "data": {
            "text/plain": [
              "array([1., 2., 3., 4., 5., 6., 7., 8., 9.])"
            ]
          },
          "metadata": {},
          "execution_count": 21
        }
      ]
    },
    {
      "cell_type": "code",
      "source": [
        "# можно указать ось для конкатенации\n",
        "\n",
        "np.concatenate((a,b), axis=0)"
      ],
      "metadata": {
        "colab": {
          "base_uri": "https://localhost:8080/"
        },
        "id": "rlBm-8-1pS9q",
        "outputId": "97439d20-4463-41f3-fc12-998e177ee2a1"
      },
      "execution_count": 22,
      "outputs": [
        {
          "output_type": "execute_result",
          "data": {
            "text/plain": [
              "array([1., 2., 3., 4., 5., 6.])"
            ]
          },
          "metadata": {},
          "execution_count": 22
        }
      ]
    },
    {
      "cell_type": "markdown",
      "source": [
        "#### Вопрос 2"
      ],
      "metadata": {
        "id": "BTEVQvESOSC1"
      }
    },
    {
      "cell_type": "markdown",
      "source": [
        "В аргументах метода reshape можно нередко встретить -1. Что это будет значить?"
      ],
      "metadata": {
        "id": "tIlnF8mDOs2S"
      }
    },
    {
      "cell_type": "markdown",
      "source": [
        "#### Задача 2"
      ],
      "metadata": {
        "id": "yxmkKo47O5l7"
      }
    },
    {
      "cell_type": "markdown",
      "source": [
        "Вам дан массив, который отражает занятость мест в кинотеатре. Место, отмеченное 1, занято, а если место отмечено 0, оно является свободным. \n",
        "Однако массив является плоским и одномерным. Преобразуйте его в двумерный массив, который отражает ряды  в зале. \n",
        "Каждый ряд в кинотеатре имеет 5 мест, таким образом, всего 30 мест.  \n",
        "Задайте массиву соответствующую форму и выведите ряд по заданному индексу, который принимается из пользовательского ввода."
      ],
      "metadata": {
        "id": "c5tnIoknO8Wq"
      }
    },
    {
      "cell_type": "code",
      "source": [
        "data = np.array([1, 1, 0, 0, 1, 0, 0, 0, 0, 0, 1, 1, 1, 1, 1, 1, 0, 1, 0, 1, 1, 1, 1, 0, 0, 0, 1, 1, 1, 0]) \n",
        " \n",
        "row = int(input())\n",
        "data.reshape(row, -1)"
      ],
      "metadata": {
        "id": "zcY5f18nPA5v",
        "colab": {
          "base_uri": "https://localhost:8080/"
        },
        "outputId": "89918299-62f7-4774-b865-623afce83404"
      },
      "execution_count": 26,
      "outputs": [
        {
          "name": "stdout",
          "output_type": "stream",
          "text": [
            "6\n"
          ]
        },
        {
          "output_type": "execute_result",
          "data": {
            "text/plain": [
              "array([[1, 1, 0, 0, 1],\n",
              "       [0, 0, 0, 0, 0],\n",
              "       [1, 1, 1, 1, 1],\n",
              "       [1, 0, 1, 0, 1],\n",
              "       [1, 1, 1, 0, 0],\n",
              "       [0, 1, 1, 1, 0]])"
            ]
          },
          "metadata": {},
          "execution_count": 26
        }
      ]
    },
    {
      "cell_type": "markdown",
      "source": [
        "### 4. Великий Random"
      ],
      "metadata": {
        "id": "xio-5dgeqb1F"
      }
    },
    {
      "cell_type": "markdown",
      "source": [
        "В numpy есть встроенный модуль random, позволяющий работать с генерацией случайных чисел. Вот парочка удобных комманд"
      ],
      "metadata": {
        "id": "VECwQDJb5ze5"
      }
    },
    {
      "cell_type": "code",
      "source": [
        "# создать случайное вещественное число\n",
        "np.random.randn()"
      ],
      "metadata": {
        "colab": {
          "base_uri": "https://localhost:8080/"
        },
        "id": "pDn_L7Jwqd5t",
        "outputId": "c88d7378-503a-479d-d157-077aa65dba04"
      },
      "execution_count": 27,
      "outputs": [
        {
          "output_type": "execute_result",
          "data": {
            "text/plain": [
              "0.6152232790417648"
            ]
          },
          "metadata": {},
          "execution_count": 27
        }
      ]
    },
    {
      "cell_type": "code",
      "source": [
        "# случайное целое число от 1 до 10\n",
        "np.random.randint(1,10)"
      ],
      "metadata": {
        "colab": {
          "base_uri": "https://localhost:8080/"
        },
        "id": "iaaDDatR5_9f",
        "outputId": "b9725fa3-acdd-43db-9c7b-8c76b01b8511"
      },
      "execution_count": 28,
      "outputs": [
        {
          "output_type": "execute_result",
          "data": {
            "text/plain": [
              "3"
            ]
          },
          "metadata": {},
          "execution_count": 28
        }
      ]
    },
    {
      "cell_type": "code",
      "source": [
        "# а что если я хочу целых 4 случайных числа?\n",
        "np.random.randn(4)"
      ],
      "metadata": {
        "colab": {
          "base_uri": "https://localhost:8080/"
        },
        "id": "9dAlOT1-qiC7",
        "outputId": "78076553-8b38-4215-b6bf-bb1f73ff4ba6"
      },
      "execution_count": 29,
      "outputs": [
        {
          "output_type": "execute_result",
          "data": {
            "text/plain": [
              "array([ 0.55691205,  0.68310108, -0.06188049,  2.31491471])"
            ]
          },
          "metadata": {},
          "execution_count": 29
        }
      ]
    },
    {
      "cell_type": "code",
      "source": [
        "# ооооо а что если я хочу матрицу из случайных чисел?\n",
        "np.random.randn(5,3)"
      ],
      "metadata": {
        "colab": {
          "base_uri": "https://localhost:8080/"
        },
        "id": "7vntQratqmSD",
        "outputId": "1fbbb159-aae6-4e0b-dead-84499075420d"
      },
      "execution_count": 30,
      "outputs": [
        {
          "output_type": "execute_result",
          "data": {
            "text/plain": [
              "array([[ 1.14829142,  1.94871974, -0.2972764 ],\n",
              "       [-1.21381134, -0.21053883,  0.33169612],\n",
              "       [ 0.61637385,  0.74986404, -0.83722863],\n",
              "       [ 1.82327393,  0.78708997, -0.57402777],\n",
              "       [ 2.21240962,  0.50928967,  1.39690735]])"
            ]
          },
          "metadata": {},
          "execution_count": 30
        }
      ]
    },
    {
      "cell_type": "markdown",
      "source": [
        "### Дополнительные материалы"
      ],
      "metadata": {
        "id": "DCBUcuHzmyvy"
      }
    },
    {
      "cell_type": "markdown",
      "source": [
        "\n",
        "\n",
        "*   Курс по математике в связке с Python, на 2 неделе подробно рассказывается о numpy: \n",
        "https://stepik.org/course/3356/promo\n",
        "\n",
        "*   Курс от МФТИ Python для искуственного интеллекта, в последнем 6 модуле рассказывается про numpy: \n",
        "https://stepik.org/course/110361/promo\n",
        "\n",
        "*  Часовой урок по Numpy на YouTube: \n",
        "https://www.youtube.com/watch?v=IWezobwAC-U&ab_channel=%D0%90%D0%B2%D0%B5%D0%9A%D0%BE%D0%B4%D0%B5%D1%80\n",
        "\n"
      ],
      "metadata": {
        "id": "UucSBsDRm97x"
      }
    }
  ]
}